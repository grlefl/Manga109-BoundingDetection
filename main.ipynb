{
 "cells": [
  {
   "cell_type": "markdown",
   "source": [
    "Information \n",
    "- http://host.robots.ox.ac.uk/pascal/VOC/voc2007/ (dataset)\n",
    "- https://github.com/keshik6/pascal-voc-classification/tree/master (github inspo)"
   ],
   "metadata": {
    "collapsed": false
   },
   "id": "e90913e53d021ca"
  },
  {
   "cell_type": "markdown",
   "source": [
    "## Dependencies "
   ],
   "metadata": {
    "collapsed": false
   },
   "id": "2f2b894c2c605ede"
  },
  {
   "cell_type": "code",
   "execution_count": 1,
   "id": "initial_id",
   "metadata": {
    "collapsed": true,
    "ExecuteTime": {
     "end_time": "2024-04-03T21:46:29.691327Z",
     "start_time": "2024-04-03T21:46:26.484643Z"
    }
   },
   "outputs": [],
   "source": [
    "from dataset import PascalVOC_Dataset"
   ]
  },
  {
   "cell_type": "markdown",
   "source": [
    "## Prepare Dataset"
   ],
   "metadata": {
    "collapsed": false
   },
   "id": "e324705b47bbbc49"
  },
  {
   "cell_type": "code",
   "outputs": [],
   "source": [
    "dataset_train = PascalVOC_Dataset(data_dir,\n",
    "                                      year='2012', \n",
    "                                      image_set='train', \n",
    "                                      download=download_data, \n",
    "                                      transform=transformations, \n",
    "                                      target_transform=encode_labels)"
   ],
   "metadata": {
    "collapsed": false,
    "ExecuteTime": {
     "end_time": "2024-04-03T20:44:22.748576Z",
     "start_time": "2024-04-03T20:44:22.745874Z"
    }
   },
   "id": "9be868682ae5efb4",
   "execution_count": 0
  },
  {
   "cell_type": "markdown",
   "source": [
    "Visualize Dataset"
   ],
   "metadata": {
    "collapsed": false
   },
   "id": "e78db64a17518ec6"
  },
  {
   "cell_type": "code",
   "outputs": [],
   "source": [],
   "metadata": {
    "collapsed": false,
    "ExecuteTime": {
     "end_time": "2024-04-03T20:44:22.752159Z",
     "start_time": "2024-04-03T20:44:22.749580Z"
    }
   },
   "id": "ebba46c7a8e7a196",
   "execution_count": 0
  },
  {
   "cell_type": "markdown",
   "source": [
    "## Optimizer"
   ],
   "metadata": {
    "collapsed": false
   },
   "id": "a83eb76c29da7b01"
  },
  {
   "cell_type": "code",
   "outputs": [],
   "source": [],
   "metadata": {
    "collapsed": false
   },
   "id": "7307e7c1df518df7"
  },
  {
   "cell_type": "markdown",
   "source": [
    "## Training"
   ],
   "metadata": {
    "collapsed": false
   },
   "id": "80e95addc98c4dbb"
  },
  {
   "cell_type": "code",
   "outputs": [],
   "source": [],
   "metadata": {
    "collapsed": false,
    "ExecuteTime": {
     "end_time": "2024-04-03T20:44:22.755484Z",
     "start_time": "2024-04-03T20:44:22.753161Z"
    }
   },
   "id": "f0713c1e336c5fdc",
   "execution_count": 0
  },
  {
   "cell_type": "markdown",
   "source": [
    "## Testing "
   ],
   "metadata": {
    "collapsed": false
   },
   "id": "a46c2b2e97e9d7f9"
  },
  {
   "cell_type": "code",
   "outputs": [],
   "source": [],
   "metadata": {
    "collapsed": false,
    "ExecuteTime": {
     "end_time": "2024-04-03T20:44:22.765998Z",
     "start_time": "2024-04-03T20:44:22.763489Z"
    }
   },
   "id": "23e1778e57c8b1c5",
   "execution_count": 0
  },
  {
   "cell_type": "markdown",
   "source": [
    "## Quantitative Evaluation"
   ],
   "metadata": {
    "collapsed": false
   },
   "id": "2d08720877c59f3c"
  },
  {
   "cell_type": "code",
   "outputs": [],
   "source": [],
   "metadata": {
    "collapsed": false,
    "ExecuteTime": {
     "end_time": "2024-04-03T20:44:22.796431Z",
     "start_time": "2024-04-03T20:44:22.794015Z"
    }
   },
   "id": "63ae6cf04c7f7a5e",
   "execution_count": 0
  }
 ],
 "metadata": {
  "kernelspec": {
   "display_name": "Python 3",
   "language": "python",
   "name": "python3"
  },
  "language_info": {
   "codemirror_mode": {
    "name": "ipython",
    "version": 2
   },
   "file_extension": ".py",
   "mimetype": "text/x-python",
   "name": "python",
   "nbconvert_exporter": "python",
   "pygments_lexer": "ipython2",
   "version": "2.7.6"
  }
 },
 "nbformat": 4,
 "nbformat_minor": 5
}
