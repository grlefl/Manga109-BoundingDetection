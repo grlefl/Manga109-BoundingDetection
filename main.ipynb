{
 "cells": [
  {
   "cell_type": "markdown",
   "source": [
    "Sources  \n",
    "- http://host.robots.ox.ac.uk/pascal/VOC/voc2007/ (pascal dataset)\n",
    "- https://github.com/keshik6/pascal-voc-classification/tree/master (pascal github inspo)\n",
    "- http://host.robots.ox.ac.uk/pascal/VOC/voc2007/devkit_doc_07-Jun-2007.pdf (pascal devkit)\n",
    "- https://github.com/FabrizioDeSantis/Object-Detection-Manga109/tree/main (manga109 github inspo)\n",
    "- manga109 dataset \\\n",
    "- manga109 libraries, api \n",
    "- manga109 paper "
   ],
   "metadata": {
    "collapsed": false
   },
   "id": "e90913e53d021ca"
  },
  {
   "cell_type": "markdown",
   "source": [
    "Dependencies "
   ],
   "metadata": {
    "collapsed": false
   },
   "id": "2f2b894c2c605ede"
  },
  {
   "cell_type": "code",
   "execution_count": 13,
   "id": "initial_id",
   "metadata": {
    "collapsed": true,
    "ExecuteTime": {
     "end_time": "2024-04-04T21:06:57.698884Z",
     "start_time": "2024-04-04T21:06:57.695135Z"
    }
   },
   "outputs": [],
   "source": [
    "import manga109api_custom\n",
    "from visualize_data import draw_annotations\n",
    "from IPython.display import display\n",
    "from sklearn.model_selection import train_test_split"
   ]
  },
  {
   "cell_type": "markdown",
   "source": [
    "Access Data\n",
    "- data split does not account for different author styles "
   ],
   "metadata": {
    "collapsed": false
   },
   "id": "c5ff89f8469ec2f9"
  },
  {
   "cell_type": "code",
   "outputs": [],
   "source": [
    "# directory with Manga109 data \n",
    "manga109_root_dir = \"./Manga109/Manga109_released_2023_12_07\" # directory with Manga109 data\n",
    "\n",
    "# custom parser to access Manga109 data \n",
    "p = manga109api_custom.Parser(root_dir=manga109_root_dir)\n",
    "\n",
    "# images = [{'img_path','page_annotation'},...] # dictionary of images \n",
    "# author_labels = ['book1','book2','book1',...] # corresponding book label associated with each image\n",
    "images, book_labels = p.load_all_images()\n",
    "\n",
    "# define the proportions for initial split (e.g., 80% train/validation, 20% test) #CHECK \n",
    "train_val_ratio = 0.8\n",
    "test_ratio = 0.2\n",
    "\n",
    "# split data into training/validation and testing sets\n",
    "train_val_images, test_images, train_val_labels, _ = train_test_split(\n",
    "    images, book_labels, stratify=book_labels, test_size=test_ratio, random_state=42\n",
    ")\n",
    "\n",
    "# further split the training/validation set into training and validation sets\n",
    "train_images, val_images, _, _ = train_test_split(\n",
    "    train_val_images, train_val_labels, stratify=train_val_labels, test_size=1 - train_val_ratio, random_state=42\n",
    ")"
   ],
   "metadata": {
    "collapsed": false,
    "ExecuteTime": {
     "end_time": "2024-04-04T21:07:13.174764Z",
     "start_time": "2024-04-04T21:07:04.509489Z"
    }
   },
   "id": "d8039087390a350c",
   "execution_count": 14
  },
  {
   "cell_type": "markdown",
   "source": [
    "Transformations"
   ],
   "metadata": {
    "collapsed": false
   },
   "id": "5b364729dd91ae76"
  },
  {
   "cell_type": "code",
   "outputs": [],
   "source": [],
   "metadata": {
    "collapsed": false
   },
   "id": "c335555ad0621fdb"
  },
  {
   "cell_type": "markdown",
   "source": [
    "Visualize Data "
   ],
   "metadata": {
    "collapsed": false
   },
   "id": "6a0a43f86d17652"
  },
  {
   "cell_type": "code",
   "outputs": [
    {
     "name": "stdout",
     "output_type": "stream",
     "text": [
      "C:\\Users\\Grace\\Documents\\Manga109-BoundingDetection\\Manga109\\Manga109_released_2023_12_07\\images\\ARMS\\000.jpg\n"
     ]
    }
   ],
   "source": [
    "print(images[0]['img_path'])"
   ],
   "metadata": {
    "collapsed": false,
    "ExecuteTime": {
     "end_time": "2024-04-04T22:06:25.394046Z",
     "start_time": "2024-04-04T22:06:25.390209Z"
    }
   },
   "id": "57f45f9091fd02ab",
   "execution_count": 52
  },
  {
   "cell_type": "code",
   "outputs": [
    {
     "ename": "SyntaxError",
     "evalue": "(unicode error) 'unicodeescape' codec can't decode bytes in position 2-3: truncated \\UXXXXXXXX escape (2391597484.py, line 16)",
     "output_type": "error",
     "traceback": [
      "\u001B[1;36m  Cell \u001B[1;32mIn[55], line 16\u001B[1;36m\u001B[0m\n\u001B[1;33m    img = Image.open(\"C:\\Users\\Grace\\Documents\\Manga109-BoundingDetection\\Manga109\\Manga109_released_2023_12_07\\images\\Hamlet\\000.jpg\")\u001B[0m\n\u001B[1;37m                     ^\u001B[0m\n\u001B[1;31mSyntaxError\u001B[0m\u001B[1;31m:\u001B[0m (unicode error) 'unicodeescape' codec can't decode bytes in position 2-3: truncated \\UXXXXXXXX escape\n"
     ]
    }
   ],
   "source": [
    "from PIL import Image\n",
    "# int = 56\n",
    "# \n",
    "# image = Image.open(images[int]['img_path'])\n",
    "# display(image)\n",
    "\n",
    "# butt = draw_annotations(image, images[int]['page_annotation'])\n",
    "# display(butt)\n",
    "# \n",
    "# int1 = 4356\n",
    "# image1 = Image.open(images[int1]['img_path'])\n",
    "# \n",
    "# butt1 = draw_annotations(image1, images[int1]['page_annotation'])\n",
    "# display(butt1)\n",
    "\n",
    "img = Image.open(\"C:\\Users\\Grace\\Documents\\Manga109-BoundingDetection\\Manga109\\Manga109_released_2023_12_07\\images\\Hamlet\\000.jpg\")\n",
    "display(img)\n"
   ],
   "metadata": {
    "collapsed": false,
    "ExecuteTime": {
     "end_time": "2024-04-04T22:07:16.661301Z",
     "start_time": "2024-04-04T22:07:16.656579Z"
    }
   },
   "id": "a2176c866932c4f0",
   "execution_count": 55
  },
  {
   "cell_type": "code",
   "outputs": [],
   "source": [],
   "metadata": {
    "collapsed": false,
    "ExecuteTime": {
     "end_time": "2024-04-04T21:35:00.464813Z",
     "start_time": "2024-04-04T21:35:00.461365Z"
    }
   },
   "id": "8628d66c8cf9149",
   "execution_count": 29
  },
  {
   "cell_type": "markdown",
   "source": [
    "- Optimizer\n",
    "- Training \n",
    "- Validate \n",
    "- Testing \n",
    "- Testing Evalution "
   ],
   "metadata": {
    "collapsed": false
   },
   "id": "f76ffc506bbd1347"
  }
 ],
 "metadata": {
  "kernelspec": {
   "display_name": "Python 3",
   "language": "python",
   "name": "python3"
  },
  "language_info": {
   "codemirror_mode": {
    "name": "ipython",
    "version": 2
   },
   "file_extension": ".py",
   "mimetype": "text/x-python",
   "name": "python",
   "nbconvert_exporter": "python",
   "pygments_lexer": "ipython2",
   "version": "2.7.6"
  }
 },
 "nbformat": 4,
 "nbformat_minor": 5
}
